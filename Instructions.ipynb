{
 "cells": [
  {
   "cell_type": "markdown",
   "metadata": {},
   "source": [
    "# Yolov8 Tutorial\n",
    "This Jupyter Notebook will provide the basic tutorial on how to get started with yolov8 model. We will start by creating a development environment (conda or docker)."
   ]
  },
  {
   "cell_type": "markdown",
   "metadata": {},
   "source": [
    "### Making a conda environment\n",
    "I assume anaconda already installed if not head over to anconda website and follow the instructions to install the anaconda.\n",
    "\n",
    "anaconda website: [Link text](https://docs.anaconda.com/anaconda/install/)\n",
    "\n",
    "To create conda environment follow the following steps:\n",
    "\n",
    "Open up Anaconda Prompt on windows, on linux and macOS open up terminal and run following commands one by one\n",
    "\n",
    "```conda create -n yolo_tutorial```\n",
    "\n",
    "```conda activate yolo_tutorial```\n",
    "\n",
    "After creating and activating conda environment install pip (package manager) to install the required dependencies\n",
    "\n",
    "```conda install pip```\n",
    "\n",
    "Please note that while installing the dependency packages in the active conda environment always use ```python3 -m pip install Package``` otherwise the dependencies can end up being installed in some global python environment.\n",
    "\n",
    "Install the Ultralytics yolo package for getting started with yolov8\n",
    "```python3 -m pip install ultralytics```\n"
   ]
  },
  {
   "cell_type": "markdown",
   "metadata": {},
   "source": [
    "### Making and using Docker environment\n",
    "For this tutorial I will be using a docker environment. Only thing needed for this is the Docker should be installed in your PC. If not follow the the Docker official installation guide for your OS.\n",
    "\n",
    "Windows: [Link text](https://docs.docker.com/desktop/setup/install/windows-install/)\n",
    "\n",
    "Linux: [Link text](https://docs.docker.com/engine/install/ubuntu/)\n",
    "\n",
    "MacOS: [Link text](https://docs.docker.com/desktop/setup/install/mac-install/)\n",
    "\n",
    "Once the Docker installation is done follow along to pull a docker image and start the docker container.\n",
    "\n",
    "**Pulling a docker image from Dockerhub**\n",
    "\n",
    "```docker pull zafar343/dispimgcu11.8:latest```\n",
    "\n",
    "Check the image locally ```docker images```\n",
    "\n",
    "**Starting docker Container**\n",
    "\n",
    "```docker run -it -d -v $PWD:$PWD -w $PWD --gpus all -e DISPLAY=$DISPLAY -v /tmp/.X11-unix:/tmp/.X11-unix -name yologui_container zafar343/dispimgcu11.8```\n",
    "\n",
    "Before running container check your display parameters if you are using linux ```echo $DISPLAY```\n",
    "\n",
    "Once docker container is started head over to vscode and attach the container in current window. Check display parameters again inside the container and verify the display if parameters match ```xeyes```\n",
    "\n",
    "If get authorization issue then add docker in the authorized list for the xhost ```xhost +local:docker```\n",
    "\n",
    "\n",
    "**Install pip**\n",
    "\n",
    "```apt-get update```\n",
    "\n",
    "```apt-get install python3-pip -y```\n",
    "\n",
    "```pip --version```\n",
    "\n",
    "Install ultralytics package: ```pip install ultralytics```\n",
    "\n",
    "Check the installed packages: ```pip list```\n",
    "\n",
    "Now you are good to go, we will test the Display first and then move on"
   ]
  },
  {
   "cell_type": "markdown",
   "metadata": {},
   "source": [
    "## Datasets\n",
    "\n",
    "BDD dataset (3 class only) for inference, evaluation and training. Download the BDD dataset from here: [Link text]()\n",
    "\n",
    "Open youtube videos and images for inference and visualization only"
   ]
  },
  {
   "cell_type": "markdown",
   "metadata": {},
   "source": [
    "For inference we can use any images or videos but for training and evaluating a yolo model the dataset should be in the following format\n",
    "\n",
    "    BDD_dataset/\n",
    "    ├── train\n",
    "    │   ├── b1c66a42-6f7d68ca.jpg\n",
    "    │   ├── b1c66a42-6f7d68ca.txt\n",
    "    │               ...\n",
    "    │   ├── b1d9e136-9ab25cb3.jpg\n",
    "    │   └── b1d9e136-9ab25cb3.txt\n",
    "    └── val\n",
    "        ├── b1c66a42-6f7d68ca.jpg\n",
    "        ├── b1c66a42-6f7d68ca.txt\n",
    "                    ...\n",
    "        ├── b1ceb32e-813f84b2.jpg\n",
    "        └── b1ceb32e-813f84b2.txt\n",
    "\n",
    "Yolo alogorithms assume the annotations in a .txt file. The annotation format inside an annotation file should be like:```c x_center y_center w h```. where `c` is the object class, `x_center` and `y_center` are box center point while `w` and `h` are box height and box width respectively. The box coordinates should also be normalized with height and width of image. Image and the label files should be in the same directory.    "
   ]
  }
 ],
 "metadata": {
  "language_info": {
   "name": "python"
  }
 },
 "nbformat": 4,
 "nbformat_minor": 2
}
